{
 "cells": [
  {
   "cell_type": "code",
   "execution_count": 3,
   "metadata": {},
   "outputs": [],
   "source": [
    "from ultralytics import YOLO\n",
    "\n",
    "model = YOLO(\"yolov8s.pt\")"
   ]
  },
  {
   "cell_type": "markdown",
   "metadata": {},
   "source": [
    "# Boxes"
   ]
  },
  {
   "cell_type": "code",
   "execution_count": 4,
   "metadata": {},
   "outputs": [
    {
     "name": "stdout",
     "output_type": "stream",
     "text": [
      "\n",
      "image 1/1 /home/hany_jr/Downloads/images.jpeg: 288x640 9 persons, 5 cars, 1 traffic light, 1 backpack, 2 potted plants, 27.9ms\n",
      "Speed: 1.3ms preprocess, 27.9ms inference, 289.1ms postprocess per image at shape (1, 3, 288, 640)\n"
     ]
    },
    {
     "data": {
      "text/plain": [
       "[ultralytics.engine.results.Results object with attributes:\n",
       " \n",
       " boxes: ultralytics.engine.results.Boxes object\n",
       " keypoints: None\n",
       " masks: None\n",
       " names: {0: 'person', 1: 'bicycle', 2: 'car', 3: 'motorcycle', 4: 'airplane', 5: 'bus', 6: 'train', 7: 'truck', 8: 'boat', 9: 'traffic light', 10: 'fire hydrant', 11: 'stop sign', 12: 'parking meter', 13: 'bench', 14: 'bird', 15: 'cat', 16: 'dog', 17: 'horse', 18: 'sheep', 19: 'cow', 20: 'elephant', 21: 'bear', 22: 'zebra', 23: 'giraffe', 24: 'backpack', 25: 'umbrella', 26: 'handbag', 27: 'tie', 28: 'suitcase', 29: 'frisbee', 30: 'skis', 31: 'snowboard', 32: 'sports ball', 33: 'kite', 34: 'baseball bat', 35: 'baseball glove', 36: 'skateboard', 37: 'surfboard', 38: 'tennis racket', 39: 'bottle', 40: 'wine glass', 41: 'cup', 42: 'fork', 43: 'knife', 44: 'spoon', 45: 'bowl', 46: 'banana', 47: 'apple', 48: 'sandwich', 49: 'orange', 50: 'broccoli', 51: 'carrot', 52: 'hot dog', 53: 'pizza', 54: 'donut', 55: 'cake', 56: 'chair', 57: 'couch', 58: 'potted plant', 59: 'bed', 60: 'dining table', 61: 'toilet', 62: 'tv', 63: 'laptop', 64: 'mouse', 65: 'remote', 66: 'keyboard', 67: 'cell phone', 68: 'microwave', 69: 'oven', 70: 'toaster', 71: 'sink', 72: 'refrigerator', 73: 'book', 74: 'clock', 75: 'vase', 76: 'scissors', 77: 'teddy bear', 78: 'hair drier', 79: 'toothbrush'}\n",
       " obb: None\n",
       " orig_img: array([[[131, 157, 174],\n",
       "         [158, 184, 201],\n",
       "         [153, 179, 195],\n",
       "         ...,\n",
       "         [ 71,  69,  75],\n",
       "         [129, 127, 133],\n",
       "         [133, 131, 137]],\n",
       " \n",
       "        [[147, 173, 190],\n",
       "         [161, 187, 204],\n",
       "         [153, 179, 196],\n",
       "         ...,\n",
       "         [ 64,  62,  68],\n",
       "         [124, 122, 128],\n",
       "         [131, 129, 135]],\n",
       " \n",
       "        [[147, 171, 191],\n",
       "         [179, 203, 223],\n",
       "         [164, 189, 209],\n",
       "         ...,\n",
       "         [ 64,  62,  68],\n",
       "         [122, 120, 126],\n",
       "         [124, 122, 128]],\n",
       " \n",
       "        ...,\n",
       " \n",
       "        [[153, 149, 155],\n",
       "         [153, 149, 155],\n",
       "         [152, 148, 154],\n",
       "         ...,\n",
       "         [175, 169, 170],\n",
       "         [175, 169, 170],\n",
       "         [175, 169, 170]],\n",
       " \n",
       "        [[153, 149, 155],\n",
       "         [153, 149, 155],\n",
       "         [152, 148, 154],\n",
       "         ...,\n",
       "         [175, 169, 170],\n",
       "         [175, 169, 170],\n",
       "         [175, 169, 170]],\n",
       " \n",
       "        [[157, 153, 159],\n",
       "         [157, 153, 159],\n",
       "         [157, 153, 159],\n",
       "         ...,\n",
       "         [175, 169, 170],\n",
       "         [175, 169, 170],\n",
       "         [175, 169, 170]]], dtype=uint8)\n",
       " orig_shape: (148, 340)\n",
       " path: '/home/hany_jr/Downloads/images.jpeg'\n",
       " probs: None\n",
       " save_dir: 'runs/detect/predict2'\n",
       " speed: {'preprocess': 1.2540817260742188, 'inference': 27.857065200805664, 'postprocess': 289.08324241638184}]"
      ]
     },
     "execution_count": 4,
     "metadata": {},
     "output_type": "execute_result"
    }
   ],
   "source": [
    "restuls = model(\"/home/hany_jr/Downloads/images.jpeg\")\n",
    "restuls"
   ]
  },
  {
   "cell_type": "code",
   "execution_count": 26,
   "metadata": {},
   "outputs": [
    {
     "name": "stdout",
     "output_type": "stream",
     "text": [
      "class name :  car\n",
      "confidence values :  0\n",
      "boxes in xywh format :  tensor([[235.3678,  71.6013, 298.1391, 106.0306]], device='cuda:0')\n",
      "boxes in xyxy format normalized by original image size :  tensor([[0.6923, 0.4838, 0.8769, 0.7164]], device='cuda:0')\n",
      "boxes in xywh format normalized by original image size :  tensor([[0.7846, 0.6001, 0.1846, 0.2326]], device='cuda:0')\n",
      "- - - - - - - - - - - - - - - - - - - - - - - - - - - - - - - - - - - - - - - - - - - - - - - - - - \n",
      "class name :  person\n",
      "confidence values :  0\n",
      "boxes in xywh format :  tensor([[118.3484,  67.2770, 144.4106, 119.0124]], device='cuda:0')\n",
      "boxes in xyxy format normalized by original image size :  tensor([[0.3481, 0.4546, 0.4247, 0.8041]], device='cuda:0')\n",
      "boxes in xywh format normalized by original image size :  tensor([[0.3864, 0.6294, 0.0767, 0.3496]], device='cuda:0')\n",
      "- - - - - - - - - - - - - - - - - - - - - - - - - - - - - - - - - - - - - - - - - - - - - - - - - - \n",
      "class name :  car\n",
      "confidence values :  0\n",
      "boxes in xywh format :  tensor([[214.8713,  71.6971, 247.1210,  99.1664]], device='cuda:0')\n",
      "boxes in xyxy format normalized by original image size :  tensor([[0.6320, 0.4844, 0.7268, 0.6700]], device='cuda:0')\n",
      "boxes in xywh format normalized by original image size :  tensor([[0.6794, 0.5772, 0.0949, 0.1856]], device='cuda:0')\n",
      "- - - - - - - - - - - - - - - - - - - - - - - - - - - - - - - - - - - - - - - - - - - - - - - - - - \n",
      "class name :  person\n",
      "confidence values :  0\n",
      "boxes in xywh format :  tensor([[191.5886,  69.1608, 216.3280, 115.2029]], device='cuda:0')\n",
      "boxes in xyxy format normalized by original image size :  tensor([[0.5635, 0.4673, 0.6363, 0.7784]], device='cuda:0')\n",
      "boxes in xywh format normalized by original image size :  tensor([[0.5999, 0.6229, 0.0728, 0.3111]], device='cuda:0')\n",
      "- - - - - - - - - - - - - - - - - - - - - - - - - - - - - - - - - - - - - - - - - - - - - - - - - - \n",
      "class name :  person\n",
      "confidence values :  0\n",
      "boxes in xywh format :  tensor([[ 13.4856,  58.0185,  28.6585, 104.6594]], device='cuda:0')\n",
      "boxes in xyxy format normalized by original image size :  tensor([[0.0397, 0.3920, 0.0843, 0.7072]], device='cuda:0')\n",
      "boxes in xywh format normalized by original image size :  tensor([[0.0620, 0.5496, 0.0446, 0.3151]], device='cuda:0')\n",
      "- - - - - - - - - - - - - - - - - - - - - - - - - - - - - - - - - - - - - - - - - - - - - - - - - - \n",
      "class name :  person\n",
      "confidence values :  0\n",
      "boxes in xywh format :  tensor([[ 44.4945,  61.9026,  58.0854, 106.4614]], device='cuda:0')\n",
      "boxes in xyxy format normalized by original image size :  tensor([[0.1309, 0.4183, 0.1708, 0.7193]], device='cuda:0')\n",
      "boxes in xywh format normalized by original image size :  tensor([[0.1509, 0.5688, 0.0400, 0.3011]], device='cuda:0')\n",
      "- - - - - - - - - - - - - - - - - - - - - - - - - - - - - - - - - - - - - - - - - - - - - - - - - - \n",
      "class name :  potted plant\n",
      "confidence values :  0\n",
      "boxes in xywh format :  tensor([[315.8281,  73.0779, 339.7881, 100.6645]], device='cuda:0')\n",
      "boxes in xyxy format normalized by original image size :  tensor([[0.9289, 0.4938, 0.9994, 0.6802]], device='cuda:0')\n",
      "boxes in xywh format normalized by original image size :  tensor([[0.9641, 0.5870, 0.0705, 0.1864]], device='cuda:0')\n",
      "- - - - - - - - - - - - - - - - - - - - - - - - - - - - - - - - - - - - - - - - - - - - - - - - - - \n",
      "class name :  person\n",
      "confidence values :  0\n",
      "boxes in xywh format :  tensor([[ 29.5691,  62.0224,  45.4572, 107.4436]], device='cuda:0')\n",
      "boxes in xyxy format normalized by original image size :  tensor([[0.0870, 0.4191, 0.1337, 0.7260]], device='cuda:0')\n",
      "boxes in xywh format normalized by original image size :  tensor([[0.1103, 0.5725, 0.0467, 0.3069]], device='cuda:0')\n",
      "- - - - - - - - - - - - - - - - - - - - - - - - - - - - - - - - - - - - - - - - - - - - - - - - - - \n",
      "class name :  person\n",
      "confidence values :  0\n",
      "boxes in xywh format :  tensor([[142.1642,  66.6811, 163.5519, 111.4766]], device='cuda:0')\n",
      "boxes in xyxy format normalized by original image size :  tensor([[0.4181, 0.4505, 0.4810, 0.7532]], device='cuda:0')\n",
      "boxes in xywh format normalized by original image size :  tensor([[0.4496, 0.6019, 0.0629, 0.3027]], device='cuda:0')\n",
      "- - - - - - - - - - - - - - - - - - - - - - - - - - - - - - - - - - - - - - - - - - - - - - - - - - \n",
      "class name :  potted plant\n",
      "confidence values :  0\n",
      "boxes in xywh format :  tensor([[292.1257,  72.4738, 315.2697,  97.7264]], device='cuda:0')\n",
      "boxes in xyxy format normalized by original image size :  tensor([[0.8592, 0.4897, 0.9273, 0.6603]], device='cuda:0')\n",
      "boxes in xywh format normalized by original image size :  tensor([[0.8932, 0.5750, 0.0681, 0.1706]], device='cuda:0')\n",
      "- - - - - - - - - - - - - - - - - - - - - - - - - - - - - - - - - - - - - - - - - - - - - - - - - - \n",
      "class name :  car\n",
      "confidence values :  0\n",
      "boxes in xywh format :  tensor([[184.1362,  72.4875, 196.5052,  90.8946]], device='cuda:0')\n",
      "boxes in xyxy format normalized by original image size :  tensor([[0.5416, 0.4898, 0.5780, 0.6142]], device='cuda:0')\n",
      "boxes in xywh format normalized by original image size :  tensor([[0.5598, 0.5520, 0.0364, 0.1244]], device='cuda:0')\n",
      "- - - - - - - - - - - - - - - - - - - - - - - - - - - - - - - - - - - - - - - - - - - - - - - - - - \n",
      "class name :  person\n",
      "confidence values :  0\n",
      "boxes in xywh format :  tensor([[165.1140,  67.5862, 187.3658, 113.8784]], device='cuda:0')\n",
      "boxes in xyxy format normalized by original image size :  tensor([[0.4856, 0.4567, 0.5511, 0.7694]], device='cuda:0')\n",
      "boxes in xywh format normalized by original image size :  tensor([[0.5184, 0.6131, 0.0654, 0.3128]], device='cuda:0')\n",
      "- - - - - - - - - - - - - - - - - - - - - - - - - - - - - - - - - - - - - - - - - - - - - - - - - - \n",
      "class name :  traffic light\n",
      "confidence values :  0\n",
      "boxes in xywh format :  tensor([[41.6031, 17.0966, 59.8718, 32.3048]], device='cuda:0')\n",
      "boxes in xyxy format normalized by original image size :  tensor([[0.1224, 0.1155, 0.1761, 0.2183]], device='cuda:0')\n",
      "boxes in xywh format normalized by original image size :  tensor([[0.1492, 0.1669, 0.0537, 0.1028]], device='cuda:0')\n",
      "- - - - - - - - - - - - - - - - - - - - - - - - - - - - - - - - - - - - - - - - - - - - - - - - - - \n",
      "class name :  person\n",
      "confidence values :  0\n",
      "boxes in xywh format :  tensor([[ 76.3804,  57.1484,  90.5821, 108.4439]], device='cuda:0')\n",
      "boxes in xyxy format normalized by original image size :  tensor([[0.2246, 0.3861, 0.2664, 0.7327]], device='cuda:0')\n",
      "boxes in xywh format normalized by original image size :  tensor([[0.2455, 0.5594, 0.0418, 0.3466]], device='cuda:0')\n",
      "- - - - - - - - - - - - - - - - - - - - - - - - - - - - - - - - - - - - - - - - - - - - - - - - - - \n",
      "class name :  person\n",
      "confidence values :  0\n",
      "boxes in xywh format :  tensor([[171.4823,  68.2603, 186.7632, 112.9319]], device='cuda:0')\n",
      "boxes in xyxy format normalized by original image size :  tensor([[0.5044, 0.4612, 0.5493, 0.7631]], device='cuda:0')\n",
      "boxes in xywh format normalized by original image size :  tensor([[0.5268, 0.6121, 0.0449, 0.3018]], device='cuda:0')\n",
      "- - - - - - - - - - - - - - - - - - - - - - - - - - - - - - - - - - - - - - - - - - - - - - - - - - \n",
      "class name :  car\n",
      "confidence values :  0\n",
      "boxes in xywh format :  tensor([[203.9077,  68.7424, 221.6588,  88.4382]], device='cuda:0')\n",
      "boxes in xyxy format normalized by original image size :  tensor([[0.5997, 0.4645, 0.6519, 0.5976]], device='cuda:0')\n",
      "boxes in xywh format normalized by original image size :  tensor([[0.6258, 0.5310, 0.0522, 0.1331]], device='cuda:0')\n",
      "- - - - - - - - - - - - - - - - - - - - - - - - - - - - - - - - - - - - - - - - - - - - - - - - - - \n",
      "class name :  car\n",
      "confidence values :  0\n",
      "boxes in xywh format :  tensor([[195.6871,  68.2935, 221.2718,  88.6059]], device='cuda:0')\n",
      "boxes in xyxy format normalized by original image size :  tensor([[0.5756, 0.4614, 0.6508, 0.5987]], device='cuda:0')\n",
      "boxes in xywh format normalized by original image size :  tensor([[0.6132, 0.5301, 0.0752, 0.1372]], device='cuda:0')\n",
      "- - - - - - - - - - - - - - - - - - - - - - - - - - - - - - - - - - - - - - - - - - - - - - - - - - \n",
      "class name :  backpack\n",
      "confidence values :  0\n",
      "boxes in xywh format :  tensor([[193.4313,  75.9411, 205.5045,  93.8869]], device='cuda:0')\n",
      "boxes in xyxy format normalized by original image size :  tensor([[0.5689, 0.5131, 0.6044, 0.6344]], device='cuda:0')\n",
      "boxes in xywh format normalized by original image size :  tensor([[0.5867, 0.5737, 0.0355, 0.1213]], device='cuda:0')\n",
      "- - - - - - - - - - - - - - - - - - - - - - - - - - - - - - - - - - - - - - - - - - - - - - - - - - \n"
     ]
    },
    {
     "data": {
      "image/jpeg": "[encoded data removed]",
      "text/plain": [
       "<IPython.core.display.Image object>"
      ]
     },
     "execution_count": 26,
     "metadata": {
      "image/jpeg": {
       "width": 1000
      }
     },
     "output_type": "execute_result"
    }
   ],
   "source": [
    "names = {\n",
    "    0: \"person\",\n",
    "    1: \"bicycle\",\n",
    "    2: \"car\",\n",
    "    3: \"motorcycle\",\n",
    "    4: \"airplane\",\n",
    "    5: \"bus\",\n",
    "    6: \"train\",\n",
    "    7: \"truck\",\n",
    "    8: \"boat\",\n",
    "    9: \"traffic light\",\n",
    "    10: \"fire hydrant\",\n",
    "    11: \"stop sign\",\n",
    "    12: \"parking meter\",\n",
    "    13: \"bench\",\n",
    "    14: \"bird\",\n",
    "    15: \"cat\",\n",
    "    16: \"dog\",\n",
    "    17: \"horse\",\n",
    "    18: \"sheep\",\n",
    "    19: \"cow\",\n",
    "    20: \"elephant\",\n",
    "    21: \"bear\",\n",
    "    22: \"zebra\",\n",
    "    23: \"giraffe\",\n",
    "    24: \"backpack\",\n",
    "    25: \"umbrella\",\n",
    "    26: \"handbag\",\n",
    "    27: \"tie\",\n",
    "    28: \"suitcase\",\n",
    "    29: \"frisbee\",\n",
    "    30: \"skis\",\n",
    "    31: \"snowboard\",\n",
    "    32: \"sports ball\",\n",
    "    33: \"kite\",\n",
    "    34: \"baseball bat\",\n",
    "    35: \"baseball glove\",\n",
    "    36: \"skateboard\",\n",
    "    37: \"surfboard\",\n",
    "    38: \"tennis racket\",\n",
    "    39: \"bottle\",\n",
    "    40: \"wine glass\",\n",
    "    41: \"cup\",\n",
    "    42: \"fork\",\n",
    "    43: \"knife\",\n",
    "    44: \"spoon\",\n",
    "    45: \"bowl\",\n",
    "    46: \"banana\",\n",
    "    47: \"apple\",\n",
    "    48: \"sandwich\",\n",
    "    49: \"orange\",\n",
    "    50: \"broccoli\",\n",
    "    51: \"carrot\",\n",
    "    52: \"hot dog\",\n",
    "    53: \"pizza\",\n",
    "    54: \"donut\",\n",
    "    55: \"cake\",\n",
    "    56: \"chair\",\n",
    "    57: \"couch\",\n",
    "    58: \"potted plant\",\n",
    "    59: \"bed\",\n",
    "    60: \"dining table\",\n",
    "    61: \"toilet\",\n",
    "    62: \"tv\",\n",
    "    63: \"laptop\",\n",
    "    64: \"mouse\",\n",
    "    65: \"remote\",\n",
    "    66: \"keyboard\",\n",
    "    67: \"cell phone\",\n",
    "    68: \"microwave\",\n",
    "    69: \"oven\",\n",
    "    70: \"toaster\",\n",
    "    71: \"sink\",\n",
    "    72: \"refrigerator\",\n",
    "    73: \"book\",\n",
    "    74: \"clock\",\n",
    "    75: \"vase\",\n",
    "    76: \"scissors\",\n",
    "    77: \"teddy bear\",\n",
    "    78: \"hair drier\",\n",
    "    79: \"toothbrush\",\n",
    "}\n",
    "\n",
    "for r in restuls:\n",
    "    \n",
    "    for box in r.boxes:\n",
    "\n",
    "        for i in range(len(box)):\n",
    "            print('class name : ', names[int(box[i].cls)])\n",
    "            print('confidence values : ', int(box[i].conf))\n",
    "            print('boxes in xywh format : ', box[i].xyxy)\n",
    "            print('boxes in xyxy format normalized by original image size : ', box[i].xyxyn)\n",
    "            print('boxes in xywh format normalized by original image size : ', box[i].xywhn)\n",
    "\n",
    "        print('- ' * 50)  \n",
    "    \n",
    "from IPython.display import Image\n",
    "\n",
    "Image(filename='/home/hany_jr/Downloads/images.jpeg', width=1000)\n"
   ]
  },
  {
   "cell_type": "markdown",
   "metadata": {},
   "source": [
    "# Mask "
   ]
  },
  {
   "cell_type": "code",
   "execution_count": 28,
   "metadata": {},
   "outputs": [
    {
     "name": "stdout",
     "output_type": "stream",
     "text": [
      "None\n"
     ]
    }
   ],
   "source": [
    "for r in restuls:\n",
    "    print(r.masks)"
   ]
  },
  {
   "cell_type": "code",
   "execution_count": 29,
   "metadata": {},
   "outputs": [
    {
     "name": "stdout",
     "output_type": "stream",
     "text": [
      "None\n"
     ]
    }
   ],
   "source": [
    "# View results\n",
    "for r in restuls:\n",
    "    print(r.keypoints)  # print the Keypoints object containing the detected keypoints\n"
   ]
  },
  {
   "cell_type": "code",
   "execution_count": 32,
   "metadata": {},
   "outputs": [
    {
     "name": "stdout",
     "output_type": "stream",
     "text": [
      "None\n"
     ]
    }
   ],
   "source": [
    "# View results\n",
    "for r in restuls:\n",
    "    print(r.probs)  # print the Probs object containing the detected class probabilities\n"
   ]
  },
  {
   "cell_type": "code",
   "execution_count": null,
   "metadata": {},
   "outputs": [],
   "source": []
  }
 ],
 "metadata": {
  "kernelspec": {
   "display_name": "base",
   "language": "python",
   "name": "python3"
  },
  "language_info": {
   "codemirror_mode": {
    "name": "ipython",
    "version": 3
   },
   "file_extension": ".py",
   "mimetype": "text/x-python",
   "name": "python",
   "nbconvert_exporter": "python",
   "pygments_lexer": "ipython3",
   "version": "3.12.4"
  }
 },
 "nbformat": 4,
 "nbformat_minor": 2
}
